{
 "cells": [
  {
   "cell_type": "code",
   "execution_count": 1,
   "metadata": {},
   "outputs": [],
   "source": [
    "import pandas as pd\n",
    "from sklearn.model_selection import train_test_split"
   ]
  },
  {
   "cell_type": "code",
   "execution_count": 2,
   "metadata": {},
   "outputs": [],
   "source": [
    "df = pd.read_csv(\"../data/pierre_df.csv\", index_col=\"rna_name\")\n",
    "\n",
    "if not df.index.is_unique:\n",
    "    raise ValueError"
   ]
  },
  {
   "cell_type": "code",
   "execution_count": 3,
   "metadata": {},
   "outputs": [
    {
     "name": "stdout",
     "output_type": "stream",
     "text": [
      "tr0_clusters: 10275\n",
      "not_tr0_clusters: 3664\n"
     ]
    }
   ],
   "source": [
    "tr0_clusters = df.loc[df[\"is_in_tr0\"], \"cluster_id\"].unique()\n",
    "not_tr0_clusters = set(df[\"cluster_id\"].unique()) - set(tr0_clusters)\n",
    "\n",
    "tr0_clusters = sorted(tr0_clusters)\n",
    "not_tr0_clusters = sorted(not_tr0_clusters)\n",
    "\n",
    "print(\"tr0_clusters:\", len(tr0_clusters))\n",
    "print(\"not_tr0_clusters:\", len(not_tr0_clusters))"
   ]
  },
  {
   "cell_type": "code",
   "execution_count": 4,
   "metadata": {},
   "outputs": [
    {
     "name": "stdout",
     "output_type": "stream",
     "text": [
      "Training proportion: 0.8182337892495248\n"
     ]
    }
   ],
   "source": [
    "target_train_size = 0.8\n",
    "\n",
    "n_tr0_seqs = df[\"cluster_id\"].isin(tr0_clusters).sum()\n",
    "n_not_tr0_seqs = df[\"cluster_id\"].isin(not_tr0_clusters).sum()\n",
    "\n",
    "train_size = int(target_train_size * len(df)) - n_tr0_seqs\n",
    "train_size /= n_not_tr0_seqs\n",
    "\n",
    "train_clusters, test_clusters = train_test_split(not_tr0_clusters, train_size=train_size, shuffle=True, random_state=0)\n",
    "train_clusters = tr0_clusters + train_clusters\n",
    "\n",
    "train_ids = df.index[df[\"cluster_id\"].isin(train_clusters)]\n",
    "test_ids = df.index[df[\"cluster_id\"].isin(test_clusters)]\n",
    "\n",
    "print(\"Training proportion:\", len(train_ids) / (len(train_ids) + len(test_ids)))"
   ]
  }
 ],
 "metadata": {
  "kernelspec": {
   "display_name": "venv",
   "language": "python",
   "name": "python3"
  },
  "language_info": {
   "codemirror_mode": {
    "name": "ipython",
    "version": 3
   },
   "file_extension": ".py",
   "mimetype": "text/x-python",
   "name": "python",
   "nbconvert_exporter": "python",
   "pygments_lexer": "ipython3",
   "version": "3.10.12"
  }
 },
 "nbformat": 4,
 "nbformat_minor": 2
}
